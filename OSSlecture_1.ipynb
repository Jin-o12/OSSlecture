{
  "nbformat": 4,
  "nbformat_minor": 0,
  "metadata": {
    "colab": {
      "provenance": [],
      "toc_visible": true,
      "authorship_tag": "ABX9TyP1Ert55ICFe3Zc/vHQAG9H",
      "include_colab_link": true
    },
    "kernelspec": {
      "name": "python3",
      "display_name": "Python 3"
    },
    "language_info": {
      "name": "python"
    }
  },
  "cells": [
    {
      "cell_type": "markdown",
      "metadata": {
        "id": "view-in-github",
        "colab_type": "text"
      },
      "source": [
        "<a href=\"https://colab.research.google.com/github/Jin-o12/OSSlecture/blob/main/OSSlecture_1.ipynb\" target=\"_parent\"><img src=\"https://colab.research.google.com/assets/colab-badge.svg\" alt=\"Open In Colab\"/></a>"
      ]
    },
    {
      "cell_type": "markdown",
      "source": [
        "# **▶ Colab의 기능: 텍스트 상자**\n",
        "Github에서 지원하는 Markdowm 기능을 사용 할 수 있다.  \n",
        "따라서, 다음과 닽은 목차도 구현 가능.\n",
        "1. 줄을 내릴 때에는 공백 2개 이상\n",
        "2. 또는 <br\\> 커맨드 사용\n",
        "<br>\n",
        "\n",
        "### ▷ Colab의 기능: 코드 상자\n",
        "임의의 파이썬 코드를 실행 할 수 있는 코드 상자 기능도 존재한다."
      ],
      "metadata": {
        "id": "kma09K_sFjDc"
      }
    },
    {
      "cell_type": "code",
      "source": [
        "x=2\n",
        "\n",
        "x6 = x*x*x*x*x*x\n",
        "x6"
      ],
      "metadata": {
        "colab": {
          "base_uri": "https://localhost:8080/"
        },
        "id": "fEaK56gQFtkO",
        "outputId": "f0280979-9231-4434-8955-d49ddce53f93"
      },
      "execution_count": 7,
      "outputs": [
        {
          "output_type": "execute_result",
          "data": {
            "text/plain": [
              "64"
            ]
          },
          "metadata": {},
          "execution_count": 7
        }
      ]
    },
    {
      "cell_type": "markdown",
      "source": [
        "상단의 코드는 실행버튼을 통해 가능하며,  \n",
        "우측의 메뉴 목록의 \"변수\" 항목을 통해 값에 대한 확인이 가능하다.  \n",
        "한번의 런타임에 실행되는 모든 코드가 기록되며,  \n",
        "초기화를 위해서는 좌측 상단의 \"RAM 디스크\" 항목의 \"런타임 연결 해제 및 삭제\"를 통해 런타임 초기화가 필요하다.  \n",
        "(8시간 경과 시 자동 초기화)\n",
        "<br>\n",
        "\n",
        "### ▷ 코드 스니팻  \n",
        "스니팻을 통해 제공되는 코드들을 코드 상자의 형태로 가져와 사용할 수 있다."
      ],
      "metadata": {
        "id": "gwBBPkoGGvyy"
      }
    },
    {
      "cell_type": "code",
      "source": [
        "# @title Example form fields\n",
        "# @markdown Forms support many types of fields.\n",
        "\n",
        "no_type_checking = ''  # @param\n",
        "string_type = 'example'  # @param {type: \"string\"}\n",
        "slider_value = 142  # @param {type: \"slider\", min: 100, max: 200}\n",
        "number = 102  # @param {type: \"number\"}\n",
        "date = '2010-11-05'  # @param {type: \"date\"}\n",
        "pick_me = \"monday\"  # @param ['monday', 'tuesday', 'wednesday', 'thursday']\n",
        "select_or_input = \"apples\" # @param [\"apples\", \"bananas\", \"oranges\"] {allow-input: true}\n",
        "# @markdown ---\n",
        "\n",
        "### 코드 스니팻 기능으로 가져온 타입별 변수 입력 기능 코드\n",
        "### 다른 코드 상자여도, 하나의 런타임으로 구동되기 때문에\n",
        "### 타 코드의 변수 이름을 사용하면 해당 변수의 값을 변경 가능하다"
      ],
      "metadata": {
        "id": "RxS8Z0Y_I_kB"
      },
      "execution_count": null,
      "outputs": []
    }
  ]
}